{
 "cells": [
  {
   "cell_type": "markdown",
   "id": "55de4cde",
   "metadata": {},
   "source": [
    "# Linear Regression with Libraries"
   ]
  },
  {
   "cell_type": "markdown",
   "id": "14731ff9",
   "metadata": {},
   "source": [
    "house price prediction based on area of house using numpy and pandas"
   ]
  },
  {
   "cell_type": "markdown",
   "id": "567d0c0c",
   "metadata": {},
   "source": [
    "# Data Set import"
   ]
  },
  {
   "cell_type": "code",
   "execution_count": 20,
   "id": "9787f32c",
   "metadata": {},
   "outputs": [],
   "source": [
    "import pandas as pd\n",
    "import numpy as np\n",
    "from matplotlib import pyplot as plt\n",
    "import seaborn as sns\n",
    "import random"
   ]
  },
  {
   "cell_type": "code",
   "execution_count": 21,
   "id": "15e3c921",
   "metadata": {},
   "outputs": [],
   "source": [
    "df=pd.read_csv(\"Price.csv\")"
   ]
  },
  {
   "cell_type": "code",
   "execution_count": 22,
   "id": "01b25932",
   "metadata": {},
   "outputs": [
    {
     "data": {
      "text/html": [
       "<div>\n",
       "<style scoped>\n",
       "    .dataframe tbody tr th:only-of-type {\n",
       "        vertical-align: middle;\n",
       "    }\n",
       "\n",
       "    .dataframe tbody tr th {\n",
       "        vertical-align: top;\n",
       "    }\n",
       "\n",
       "    .dataframe thead th {\n",
       "        text-align: right;\n",
       "    }\n",
       "</style>\n",
       "<table border=\"1\" class=\"dataframe\">\n",
       "  <thead>\n",
       "    <tr style=\"text-align: right;\">\n",
       "      <th></th>\n",
       "      <th>Area (sqft)</th>\n",
       "      <th>Price ($)</th>\n",
       "    </tr>\n",
       "  </thead>\n",
       "  <tbody>\n",
       "    <tr>\n",
       "      <th>0</th>\n",
       "      <td>2000</td>\n",
       "      <td>88600</td>\n",
       "    </tr>\n",
       "    <tr>\n",
       "      <th>1</th>\n",
       "      <td>1600</td>\n",
       "      <td>71600</td>\n",
       "    </tr>\n",
       "    <tr>\n",
       "      <th>2</th>\n",
       "      <td>1980</td>\n",
       "      <td>93300</td>\n",
       "    </tr>\n",
       "    <tr>\n",
       "      <th>3</th>\n",
       "      <td>1840</td>\n",
       "      <td>84300</td>\n",
       "    </tr>\n",
       "    <tr>\n",
       "      <th>4</th>\n",
       "      <td>1710</td>\n",
       "      <td>80600</td>\n",
       "    </tr>\n",
       "  </tbody>\n",
       "</table>\n",
       "</div>"
      ],
      "text/plain": [
       "   Area (sqft)  Price ($)\n",
       "0         2000      88600\n",
       "1         1600      71600\n",
       "2         1980      93300\n",
       "3         1840      84300\n",
       "4         1710      80600"
      ]
     },
     "execution_count": 22,
     "metadata": {},
     "output_type": "execute_result"
    }
   ],
   "source": [
    "df.head()"
   ]
  },
  {
   "cell_type": "markdown",
   "id": "38ce8ea1",
   "metadata": {},
   "source": [
    " # EDA"
   ]
  },
  {
   "cell_type": "code",
   "execution_count": 23,
   "id": "46bd9536",
   "metadata": {},
   "outputs": [
    {
     "name": "stdout",
     "output_type": "stream",
     "text": [
      "<class 'pandas.core.frame.DataFrame'>\n",
      "RangeIndex: 40 entries, 0 to 39\n",
      "Data columns (total 2 columns):\n",
      " #   Column       Non-Null Count  Dtype\n",
      "---  ------       --------------  -----\n",
      " 0   Area (sqft)  40 non-null     int64\n",
      " 1   Price ($)    40 non-null     int64\n",
      "dtypes: int64(2)\n",
      "memory usage: 768.0 bytes\n"
     ]
    }
   ],
   "source": [
    "df.info()"
   ]
  },
  {
   "cell_type": "code",
   "execution_count": 24,
   "id": "005c29ab",
   "metadata": {},
   "outputs": [
    {
     "data": {
      "text/plain": [
       "(40, 2)"
      ]
     },
     "execution_count": 24,
     "metadata": {},
     "output_type": "execute_result"
    }
   ],
   "source": [
    "df.shape"
   ]
  },
  {
   "cell_type": "code",
   "execution_count": 25,
   "id": "3ab17366",
   "metadata": {},
   "outputs": [
    {
     "data": {
      "text/html": [
       "<div>\n",
       "<style scoped>\n",
       "    .dataframe tbody tr th:only-of-type {\n",
       "        vertical-align: middle;\n",
       "    }\n",
       "\n",
       "    .dataframe tbody tr th {\n",
       "        vertical-align: top;\n",
       "    }\n",
       "\n",
       "    .dataframe thead th {\n",
       "        text-align: right;\n",
       "    }\n",
       "</style>\n",
       "<table border=\"1\" class=\"dataframe\">\n",
       "  <thead>\n",
       "    <tr style=\"text-align: right;\">\n",
       "      <th></th>\n",
       "      <th>Area (sqft)</th>\n",
       "      <th>Price ($)</th>\n",
       "    </tr>\n",
       "  </thead>\n",
       "  <tbody>\n",
       "    <tr>\n",
       "      <th>count</th>\n",
       "      <td>40.000000</td>\n",
       "      <td>40.00000</td>\n",
       "    </tr>\n",
       "    <tr>\n",
       "      <th>mean</th>\n",
       "      <td>1660.250000</td>\n",
       "      <td>79347.00000</td>\n",
       "    </tr>\n",
       "    <tr>\n",
       "      <th>std</th>\n",
       "      <td>169.395418</td>\n",
       "      <td>6840.44503</td>\n",
       "    </tr>\n",
       "    <tr>\n",
       "      <th>min</th>\n",
       "      <td>1400.000000</td>\n",
       "      <td>68700.00000</td>\n",
       "    </tr>\n",
       "    <tr>\n",
       "      <th>25%</th>\n",
       "      <td>1535.000000</td>\n",
       "      <td>73900.00000</td>\n",
       "    </tr>\n",
       "    <tr>\n",
       "      <th>50%</th>\n",
       "      <td>1610.000000</td>\n",
       "      <td>79100.00000</td>\n",
       "    </tr>\n",
       "    <tr>\n",
       "      <th>75%</th>\n",
       "      <td>1762.500000</td>\n",
       "      <td>83525.00000</td>\n",
       "    </tr>\n",
       "    <tr>\n",
       "      <th>max</th>\n",
       "      <td>2000.000000</td>\n",
       "      <td>93300.00000</td>\n",
       "    </tr>\n",
       "  </tbody>\n",
       "</table>\n",
       "</div>"
      ],
      "text/plain": [
       "       Area (sqft)    Price ($)\n",
       "count    40.000000     40.00000\n",
       "mean   1660.250000  79347.00000\n",
       "std     169.395418   6840.44503\n",
       "min    1400.000000  68700.00000\n",
       "25%    1535.000000  73900.00000\n",
       "50%    1610.000000  79100.00000\n",
       "75%    1762.500000  83525.00000\n",
       "max    2000.000000  93300.00000"
      ]
     },
     "execution_count": 25,
     "metadata": {},
     "output_type": "execute_result"
    }
   ],
   "source": [
    "df.describe()"
   ]
  },
  {
   "cell_type": "code",
   "execution_count": 26,
   "id": "b6419a3f",
   "metadata": {},
   "outputs": [
    {
     "data": {
      "image/png": "[encoded data removed]",
      "text/plain": [
       "<Figure size 640x480 with 1 Axes>"
      ]
     },
     "metadata": {},
     "output_type": "display_data"
    }
   ],
   "source": [
    "plt.scatter(df['Area (sqft)'],df['Price ($)'])\n",
    "plt.xlabel(\"Area in sqft\")\n",
    "plt.ylabel(\"Price is $\")\n",
    "plt.title(\"Price VS Area\")\n",
    "plt.show()"
   ]
  },
  {
   "cell_type": "markdown",
   "id": "67e8210a",
   "metadata": {},
   "source": [
    "   # split data into train and test"
   ]
  },
  {
   "cell_type": "code",
   "execution_count": 27,
   "id": "e12dcc40",
   "metadata": {},
   "outputs": [
    {
     "data": {
      "text/html": [
       "<div>\n",
       "<style scoped>\n",
       "    .dataframe tbody tr th:only-of-type {\n",
       "        vertical-align: middle;\n",
       "    }\n",
       "\n",
       "    .dataframe tbody tr th {\n",
       "        vertical-align: top;\n",
       "    }\n",
       "\n",
       "    .dataframe thead th {\n",
       "        text-align: right;\n",
       "    }\n",
       "</style>\n",
       "<table border=\"1\" class=\"dataframe\">\n",
       "  <thead>\n",
       "    <tr style=\"text-align: right;\">\n",
       "      <th></th>\n",
       "      <th>Area (sqft)</th>\n",
       "      <th>Price ($)</th>\n",
       "    </tr>\n",
       "  </thead>\n",
       "  <tbody>\n",
       "    <tr>\n",
       "      <th>0</th>\n",
       "      <td>2000</td>\n",
       "      <td>88600</td>\n",
       "    </tr>\n",
       "    <tr>\n",
       "      <th>1</th>\n",
       "      <td>1600</td>\n",
       "      <td>71600</td>\n",
       "    </tr>\n",
       "    <tr>\n",
       "      <th>2</th>\n",
       "      <td>1980</td>\n",
       "      <td>93300</td>\n",
       "    </tr>\n",
       "    <tr>\n",
       "      <th>3</th>\n",
       "      <td>1840</td>\n",
       "      <td>84300</td>\n",
       "    </tr>\n",
       "    <tr>\n",
       "      <th>4</th>\n",
       "      <td>1710</td>\n",
       "      <td>80600</td>\n",
       "    </tr>\n",
       "    <tr>\n",
       "      <th>5</th>\n",
       "      <td>1550</td>\n",
       "      <td>75200</td>\n",
       "    </tr>\n",
       "    <tr>\n",
       "      <th>6</th>\n",
       "      <td>1470</td>\n",
       "      <td>69700</td>\n",
       "    </tr>\n",
       "    <tr>\n",
       "      <th>7</th>\n",
       "      <td>1710</td>\n",
       "      <td>82000</td>\n",
       "    </tr>\n",
       "    <tr>\n",
       "      <th>8</th>\n",
       "      <td>1540</td>\n",
       "      <td>69400</td>\n",
       "    </tr>\n",
       "    <tr>\n",
       "      <th>9</th>\n",
       "      <td>1620</td>\n",
       "      <td>78700</td>\n",
       "    </tr>\n",
       "    <tr>\n",
       "      <th>10</th>\n",
       "      <td>1500</td>\n",
       "      <td>79600</td>\n",
       "    </tr>\n",
       "    <tr>\n",
       "      <th>11</th>\n",
       "      <td>1720</td>\n",
       "      <td>82600</td>\n",
       "    </tr>\n",
       "    <tr>\n",
       "      <th>12</th>\n",
       "      <td>1600</td>\n",
       "      <td>74500</td>\n",
       "    </tr>\n",
       "    <tr>\n",
       "      <th>13</th>\n",
       "      <td>1700</td>\n",
       "      <td>83500</td>\n",
       "    </tr>\n",
       "    <tr>\n",
       "      <th>14</th>\n",
       "      <td>1440</td>\n",
       "      <td>76300</td>\n",
       "    </tr>\n",
       "    <tr>\n",
       "      <th>15</th>\n",
       "      <td>1520</td>\n",
       "      <td>74000</td>\n",
       "    </tr>\n",
       "    <tr>\n",
       "      <th>16</th>\n",
       "      <td>1960</td>\n",
       "      <td>92890</td>\n",
       "    </tr>\n",
       "    <tr>\n",
       "      <th>17</th>\n",
       "      <td>1700</td>\n",
       "      <td>79500</td>\n",
       "    </tr>\n",
       "    <tr>\n",
       "      <th>18</th>\n",
       "      <td>1420</td>\n",
       "      <td>75600</td>\n",
       "    </tr>\n",
       "    <tr>\n",
       "      <th>19</th>\n",
       "      <td>1520</td>\n",
       "      <td>70000</td>\n",
       "    </tr>\n",
       "    <tr>\n",
       "      <th>20</th>\n",
       "      <td>1900</td>\n",
       "      <td>82600</td>\n",
       "    </tr>\n",
       "    <tr>\n",
       "      <th>21</th>\n",
       "      <td>1640</td>\n",
       "      <td>73600</td>\n",
       "    </tr>\n",
       "    <tr>\n",
       "      <th>22</th>\n",
       "      <td>1900</td>\n",
       "      <td>92100</td>\n",
       "    </tr>\n",
       "    <tr>\n",
       "      <th>23</th>\n",
       "      <td>1860</td>\n",
       "      <td>84700</td>\n",
       "    </tr>\n",
       "    <tr>\n",
       "      <th>24</th>\n",
       "      <td>1700</td>\n",
       "      <td>82600</td>\n",
       "    </tr>\n",
       "    <tr>\n",
       "      <th>25</th>\n",
       "      <td>1590</td>\n",
       "      <td>75900</td>\n",
       "    </tr>\n",
       "    <tr>\n",
       "      <th>26</th>\n",
       "      <td>1410</td>\n",
       "      <td>68700</td>\n",
       "    </tr>\n",
       "    <tr>\n",
       "      <th>27</th>\n",
       "      <td>1770</td>\n",
       "      <td>84700</td>\n",
       "    </tr>\n",
       "    <tr>\n",
       "      <th>28</th>\n",
       "      <td>1550</td>\n",
       "      <td>72400</td>\n",
       "    </tr>\n",
       "    <tr>\n",
       "      <th>29</th>\n",
       "      <td>1600</td>\n",
       "      <td>76700</td>\n",
       "    </tr>\n",
       "    <tr>\n",
       "      <th>30</th>\n",
       "      <td>1580</td>\n",
       "      <td>82600</td>\n",
       "    </tr>\n",
       "    <tr>\n",
       "      <th>31</th>\n",
       "      <td>1760</td>\n",
       "      <td>83600</td>\n",
       "    </tr>\n",
       "  </tbody>\n",
       "</table>\n",
       "</div>"
      ],
      "text/plain": [
       "    Area (sqft)  Price ($)\n",
       "0          2000      88600\n",
       "1          1600      71600\n",
       "2          1980      93300\n",
       "3          1840      84300\n",
       "4          1710      80600\n",
       "5          1550      75200\n",
       "6          1470      69700\n",
       "7          1710      82000\n",
       "8          1540      69400\n",
       "9          1620      78700\n",
       "10         1500      79600\n",
       "11         1720      82600\n",
       "12         1600      74500\n",
       "13         1700      83500\n",
       "14         1440      76300\n",
       "15         1520      74000\n",
       "16         1960      92890\n",
       "17         1700      79500\n",
       "18         1420      75600\n",
       "19         1520      70000\n",
       "20         1900      82600\n",
       "21         1640      73600\n",
       "22         1900      92100\n",
       "23         1860      84700\n",
       "24         1700      82600\n",
       "25         1590      75900\n",
       "26         1410      68700\n",
       "27         1770      84700\n",
       "28         1550      72400\n",
       "29         1600      76700\n",
       "30         1580      82600\n",
       "31         1760      83600"
      ]
     },
     "execution_count": 27,
     "metadata": {},
     "output_type": "execute_result"
    }
   ],
   "source": [
    "p=int(0.8*len(df))\n",
    "train=df[:p]\n",
    "test=df[p:]\n",
    "train"
   ]
  },
  {
   "cell_type": "markdown",
   "id": "16120f5a",
   "metadata": {},
   "source": [
    "# maths"
   ]
  },
  {
   "cell_type": "markdown",
   "id": "24b2734c",
   "metadata": {},
   "source": [
    "Linear regression algorithm aims to find best fitting line that has least error(or distance) from the values. "
   ]
  },
  {
   "cell_type": "markdown",
   "id": "1e6e6059",
   "metadata": {},
   "source": [
    "Equation of a line: y=mx+c "
   ]
  },
  {
   "cell_type": "markdown",
   "id": "d33684f1",
   "metadata": {},
   "source": [
    "In linear regression, x is the independent variable(s) and y is the dependent variable. Putting this into the equation we can say that, if we know the m or slope and the intercept(c) then we can calculate the value of y for a specific value of x.\n",
    "Accuracy of this value on being compared to actual value of y depends on m and c i.e. how well we have calculated the slope and intercept that gives lowest error (or how close the line is to the actual data point)"
   ]
  },
  {
   "cell_type": "markdown",
   "id": "690e8017",
   "metadata": {},
   "source": [
    "# Let's find out best fit line"
   ]
  },
  {
   "cell_type": "code",
   "execution_count": 28,
   "id": "d063f752",
   "metadata": {},
   "outputs": [
    {
     "ename": "NameError",
     "evalue": "name 'x' is not defined",
     "output_type": "error",
     "traceback": [
      "\u001b[1;31m---------------------------------------------------------------------------\u001b[0m",
      "\u001b[1;31mNameError\u001b[0m                                 Traceback (most recent call last)",
      "Cell \u001b[1;32mIn[28], line 4\u001b[0m\n\u001b[0;32m      2\u001b[0m slope\u001b[38;5;241m=\u001b[39m\u001b[38;5;241m35\u001b[39m\n\u001b[0;32m      3\u001b[0m intercept\u001b[38;5;241m=\u001b[39m\u001b[38;5;241m15000\u001b[39m\n\u001b[1;32m----> 4\u001b[0m line_y \u001b[38;5;241m=\u001b[39m slope \u001b[38;5;241m*\u001b[39m \u001b[43mx\u001b[49m \u001b[38;5;241m+\u001b[39m intercept\n\u001b[0;32m      5\u001b[0m \u001b[38;5;66;03m# Create line plot\u001b[39;00m\n\u001b[0;32m      6\u001b[0m plt\u001b[38;5;241m.\u001b[39mplot(x, line_y, label\u001b[38;5;241m=\u001b[39m\u001b[38;5;124mf\u001b[39m\u001b[38;5;124m'\u001b[39m\u001b[38;5;124mLine (slope=\u001b[39m\u001b[38;5;132;01m{\u001b[39;00mslope\u001b[38;5;132;01m:\u001b[39;00m\u001b[38;5;124m.2f\u001b[39m\u001b[38;5;132;01m}\u001b[39;00m\u001b[38;5;124m, intercept=\u001b[39m\u001b[38;5;132;01m{\u001b[39;00mintercept\u001b[38;5;132;01m:\u001b[39;00m\u001b[38;5;124m.2f\u001b[39m\u001b[38;5;132;01m}\u001b[39;00m\u001b[38;5;124m)\u001b[39m\u001b[38;5;124m'\u001b[39m)\n",
      "\u001b[1;31mNameError\u001b[0m: name 'x' is not defined"
     ]
    }
   ],
   "source": [
    "#let's try finding best fit line slop=35 and c=15000\n",
    "slope=35\n",
    "intercept=15000\n",
    "line_y = slope * x + intercept\n",
    "# Create line plot\n",
    "plt.plot(x, line_y, label=f'Line (slope={slope:.2f}, intercept={intercept:.2f})')\n",
    "# Scatter plot for Area vs Price\n",
    "plt.scatter(train['Area (sqft)'], train['Price ($)'], color='red', label='Price vs Area')\n",
    "plt.xlabel(\"Area in sqft\")\n",
    "plt.ylabel(\"Price in $\")\n",
    "plt.title(\"Price VS Area (line 1)\")\n",
    "plt.legend()\n",
    "plt.show()\n"
   ]
  },
  {
   "cell_type": "code",
   "execution_count": null,
   "id": "936dee5f",
   "metadata": {},
   "outputs": [],
   "source": [
    "#let's try finding best fit line slop=40 and c=15000\n",
    "slope=40\n",
    "intercept=15000\n",
    "line_y = slope * x + intercept\n",
    "# Create line plot\n",
    "plt.plot(x, line_y, label=f'Line (slope={slope:.2f}, intercept={intercept:.2f})')\n",
    "# Scatter plot for Area vs Price\n",
    "plt.scatter(train['Area (sqft)'], train['Price ($)'], color='red', label='Price vs Area')\n",
    "plt.xlabel(\"Area in sqft\")\n",
    "plt.ylabel(\"Price in $\")\n",
    "plt.title(\"Price VS Area\")\n",
    "plt.legend()\n",
    "plt.show()\n"
   ]
  },
  {
   "cell_type": "code",
   "execution_count": null,
   "id": "eb2641e0",
   "metadata": {},
   "outputs": [],
   "source": [
    "#let's try finding best fit line slop=37 and c=15500\n",
    "slope=38\n",
    "intercept=15500\n",
    "line_y = slope * x + intercept\n",
    "# Create line plot\n",
    "plt.plot(x, line_y, label=f'Line (slope={slope:.2f}, intercept={intercept:.2f})')\n",
    "# Scatter plot for Area vs Price\n",
    "plt.scatter(train['Area (sqft)'], train['Price ($)'], color='red', label='Price vs Area')\n",
    "\n",
    "\n",
    "plt.xlabel(\"Area in sqft\")\n",
    "plt.ylabel(\"Price in $\")\n",
    "plt.title(\"Price VS Area\")\n",
    "plt.legend()\n",
    "plt.show()\n"
   ]
  },
  {
   "cell_type": "markdown",
   "id": "a0079b27",
   "metadata": {},
   "source": [
    "As we can see among these 3 lines, the line with slope=38 and intercept=15500 gives the best fit. (We can try for other combinations)"
   ]
  },
  {
   "cell_type": "code",
   "execution_count": null,
   "id": "2eac2759",
   "metadata": {},
   "outputs": [],
   "source": [
    "df_predict=pd.DataFrame(line_y)\n",
    "df_predict_train=df_predict[:32]\n",
    "df_predict_test=df_predict[32:]\n"
   ]
  },
  {
   "cell_type": "markdown",
   "id": "323a1cd2",
   "metadata": {},
   "source": [
    "# RMSE"
   ]
  },
  {
   "cell_type": "markdown",
   "id": "172fadec",
   "metadata": {},
   "source": [
    "Let's Calculate Root mean squared error metric"
   ]
  },
  {
   "cell_type": "code",
   "execution_count": null,
   "id": "d3b70910",
   "metadata": {},
   "outputs": [],
   "source": [
    "#rmse for train\n",
    "error=df_predict_train[0]-train[\"Price ($)\"]\n",
    "se=[x**2 for x in error]\n",
    "mse=np.mean(se)\n",
    "rmse_train=np.sqrt(mse)\n",
    "print(f\"RMSE value for train data: {rmse_train:.1f}\")\n",
    "\n",
    "#rmse for test\n",
    "error=test[\"Price ($)\"]-df_predict_test[0]\n",
    "se=[x**2 for x in error]\n",
    "mse=np.mean(se)\n",
    "rmse_test=np.sqrt(mse)\n",
    "print(f\"RMSE value for test data: {rmse_test:.1f}\")"
   ]
  },
  {
   "cell_type": "markdown",
   "id": "15bdf3a8",
   "metadata": {},
   "source": [
    "# Finding the best fit line (automated)"
   ]
  },
  {
   "cell_type": "markdown",
   "id": "9134fef5",
   "metadata": {},
   "source": [
    "We can iterate over values of slope and intercept to find best fit line that gives least RMSE value"
   ]
  },
  {
   "cell_type": "code",
   "execution_count": null,
   "id": "a75e79c8",
   "metadata": {
    "scrolled": false
   },
   "outputs": [],
   "source": [
    "best_rmse = float('inf')  \n",
    "best_slope = None\n",
    "best_intercept = None\n",
    "slope = range(33, 43)\n",
    "intercept = np.arange(15000, 20001, 500)\n",
    "\n",
    "for i in slope:\n",
    "    for j in intercept:\n",
    "        line_y = i * x + j\n",
    "        df_predict = pd.DataFrame(line_y, columns=[\"Predicted\"])  \n",
    "        df_predict_train = df_predict.iloc[:32]  \n",
    "        df_predict_test = df_predict.iloc[32:]  \n",
    "\n",
    "#         # Calculate RMSE for test set\n",
    "#         error =test[\"Price ($)\"]- df_predict_test[\"Predicted\"]\n",
    "#         se=[x**2 for x in error]\n",
    "#         mse=np.mean(se)\n",
    "#         rmse_test=np.sqrt(mse)\n",
    "        # Calculate RMSE for train set\n",
    "        error =train[\"Price ($)\"]- df_predict_train[\"Predicted\"]\n",
    "        se=[x**2 for x in error]\n",
    "        mse=np.mean(se)\n",
    "        rmse_train=np.sqrt(mse)\n",
    "        \n",
    "        if rmse_train < best_rmse:\n",
    "            best_slope = i\n",
    "            best_intercept = j\n",
    "            best_rmse = rmse_train\n",
    "            \n",
    "line_y = best_slope * x + best_intercept\n",
    "# Create line plot\n",
    "plt.plot(x, line_y, label=f'Line (slope={best_slope}, intercept={best_intercept})')\n",
    "# Scatter plot for Area vs Price\n",
    "plt.scatter(train['Area (sqft)'], train['Price ($)'], color='red', label='Price vs Area')\n",
    "\n",
    "# Adding labels and title\n",
    "plt.xlabel(\"Area in sqft\")\n",
    "plt.ylabel(\"Price in $\")\n",
    "plt.title(\"Price VS Area (Best Fit Line)\")\n",
    "plt.legend()\n",
    "plt.show()\n",
    "print(f\"Best RMSE: {best_rmse}\")\n",
    "print(f\"Best Slope: {best_slope}\")\n",
    "print(f\"Best Intercept: {best_intercept}\")\n"
   ]
  },
  {
   "cell_type": "code",
   "execution_count": null,
   "id": "86569461",
   "metadata": {},
   "outputs": [],
   "source": []
  }
 ],
 "metadata": {
  "kernelspec": {
   "display_name": "Python 3 (ipykernel)",
   "language": "python",
   "name": "python3"
  },
  "language_info": {
   "codemirror_mode": {
    "name": "ipython",
    "version": 3
   },
   "file_extension": ".py",
   "mimetype": "text/x-python",
   "name": "python",
   "nbconvert_exporter": "python",
   "pygments_lexer": "ipython3",
   "version": "3.10.9"
  }
 },
 "nbformat": 4,
 "nbformat_minor": 5
}
